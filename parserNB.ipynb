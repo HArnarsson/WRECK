{
 "cells": [
  {
   "cell_type": "code",
   "execution_count": 7,
   "metadata": {},
   "outputs": [],
   "source": [
    "# READ ME:\n",
    "# [test] below is a placeholder, (replace it with the name of the file containing all the classes) \n",
    "# the filename parser doesn't work because parser is an existing python module\n",
    "\n",
    "# also sometimes the notebook doesn't keep up with updates made to the class file so you have to restart the kernel\n",
    "\n",
    "# lastly, the TreeDisplay has a method to render a pdf and it can do that from a normal python file if you don't want to use a notebook"
   ]
  },
  {
   "cell_type": "code",
   "execution_count": 4,
   "metadata": {},
   "outputs": [],
   "source": [
    "from collections import deque\n",
    "from graphviz import Digraph\n",
    "from test import CFG, Lexer"
   ]
  },
  {
   "cell_type": "code",
   "execution_count": 9,
   "metadata": {},
   "outputs": [],
   "source": [
    "class TreeDisplay():\n",
    "    def __init__(self, rootNode):\n",
    "        self.rootNode = rootNode\n",
    "    \n",
    "    def graph_to_dot(self, rootNode):\n",
    "        dot = Digraph(format='svg')\n",
    "        dot.attr('node', shape='oval')\n",
    "\n",
    "        worklist = deque()\n",
    "        worklist.append(rootNode)\n",
    "        processed = set()\n",
    "        while worklist:\n",
    "            node = worklist.popleft()\n",
    "            dot.node(str(id(node)), node.value)\n",
    "            for child in node.children:\n",
    "                if child not in processed:\n",
    "                    dot.node(str(id(child)), child.value)\n",
    "                    dot.edge(str(id(node)), str(id(child)))\n",
    "                    worklist.append(child)\n",
    "                    processed.add(child)\n",
    "        return dot\n",
    "    \n",
    "    def render_pdf(self):\n",
    "        d = self.graph_to_dot(self.rootNode)\n",
    "        d.render(cleanup=True, format='pdf', directory='tree-images')\n",
    "\n",
    "    def _repr_svg_(self):\n",
    "        d = self.graph_to_dot(self.rootNode)\n",
    "        result = d.pipe()\n",
    "        return result.decode('utf-8')"
   ]
  },
  {
   "cell_type": "code",
   "execution_count": 10,
   "metadata": {},
   "outputs": [],
   "source": [
    "cfg = CFG()\n",
    "filename = 'llre.cfg'\n",
    "try:\n",
    "    with open(filename) as file:\n",
    "        for line in file:\n",
    "            cfg.add_production_rule(line.strip())\n",
    "except FileNotFoundError:\n",
    "    print(f\"File '{filename}' not found, check your input\")\n",
    "\n",
    "\n",
    "cfg.generate_llt()\n",
    "\n",
    "l = Lexer()\n",
    "ts = l.lex('A-D.g+')\n",
    "\n",
    "tree = cfg.parse(ts)\n",
    "\n",
    "td = TreeDisplay(tree)\n",
    "td\n",
    "td.render_pdf()"
   ]
  },
  {
   "cell_type": "code",
   "execution_count": null,
   "metadata": {},
   "outputs": [],
   "source": []
  }
 ],
 "metadata": {
  "kernelspec": {
   "display_name": "base",
   "language": "python",
   "name": "python3"
  },
  "language_info": {
   "codemirror_mode": {
    "name": "ipython",
    "version": 3
   },
   "file_extension": ".py",
   "mimetype": "text/x-python",
   "name": "python",
   "nbconvert_exporter": "python",
   "pygments_lexer": "ipython3",
   "version": "3.11.5"
  }
 },
 "nbformat": 4,
 "nbformat_minor": 2
}
