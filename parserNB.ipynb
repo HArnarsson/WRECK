{
 "cells": [
  {
   "cell_type": "code",
   "execution_count": 7,
   "metadata": {},
   "outputs": [],
   "source": [
    "# READ ME:\n",
    "# [test] below is a placeholder, (replace it with the name of the file containing all the classes) \n",
    "# the filename parser doesn't work because parser is an existing python module\n",
    "\n",
    "# also sometimes the notebook doesn't keep up with updates made to the class file so you have to restart the kernel\n",
    "\n",
    "# lastly, the TreeDisplay has a method to render a pdf and it can do that from a normal python file if you don't want to use a notebook"
   ]
  },
  {
   "cell_type": "code",
   "execution_count": 1,
   "metadata": {},
   "outputs": [],
   "source": [
    "from collections import deque\n",
    "from graphviz import Digraph\n",
    "from LL1parser import CFG, Lexer"
   ]
  },
  {
   "cell_type": "code",
   "execution_count": 2,
   "metadata": {},
   "outputs": [],
   "source": [
    "class TreeDisplay():\n",
    "    def __init__(self, rootNode):\n",
    "        self.rootNode = rootNode\n",
    "    \n",
    "    def graph_to_dot(self, rootNode):\n",
    "        dot = Digraph(format='svg')\n",
    "        dot.attr('node', shape='oval')\n",
    "\n",
    "        worklist = deque()\n",
    "        worklist.append(rootNode)\n",
    "        processed = set()\n",
    "        while worklist:\n",
    "            node = worklist.popleft()\n",
    "            dot.node(str(id(node)), node.value)\n",
    "            for child in node.children:\n",
    "                if child not in processed:\n",
    "                    dot.node(str(id(child)), child.value)\n",
    "                    dot.edge(str(id(node)), str(id(child)))\n",
    "                    worklist.append(child)\n",
    "                    processed.add(child)\n",
    "        return dot\n",
    "    \n",
    "    def render_pdf(self):\n",
    "        d = self.graph_to_dot(self.rootNode)\n",
    "        d.render(cleanup=True, format='pdf', directory='tree-images')\n",
    "\n",
    "    def _repr_svg_(self):\n",
    "        d = self.graph_to_dot(self.rootNode)\n",
    "        result = d.pipe()\n",
    "        return result.decode('utf-8')"
   ]
  },
  {
   "cell_type": "code",
   "execution_count": 3,
   "metadata": {},
   "outputs": [
    {
     "name": "stdout",
     "output_type": "stream",
     "text": [
      "File 'llre.cfg' not found, check your input\n"
     ]
    },
    {
     "ename": "IndexError",
     "evalue": "list index out of range",
     "output_type": "error",
     "traceback": [
      "\u001b[0;31m---------------------------------------------------------------------------\u001b[0m",
      "\u001b[0;31mIndexError\u001b[0m                                Traceback (most recent call last)",
      "Cell \u001b[0;32mIn[3], line 16\u001b[0m\n\u001b[1;32m     13\u001b[0m l \u001b[38;5;241m=\u001b[39m Lexer()\n\u001b[1;32m     14\u001b[0m ts \u001b[38;5;241m=\u001b[39m l\u001b[38;5;241m.\u001b[39mlex(\u001b[38;5;124m'\u001b[39m\u001b[38;5;124mA-D.g+\u001b[39m\u001b[38;5;124m'\u001b[39m)\n\u001b[0;32m---> 16\u001b[0m tree \u001b[38;5;241m=\u001b[39m cfg\u001b[38;5;241m.\u001b[39mparse(ts)\n\u001b[1;32m     18\u001b[0m td \u001b[38;5;241m=\u001b[39m TreeDisplay(tree)\n\u001b[1;32m     19\u001b[0m td\n",
      "File \u001b[0;32m~/compiler-design-hw/WRECK/LL1parser.py:466\u001b[0m, in \u001b[0;36mCFG.parse\u001b[0;34m(self, ts)\u001b[0m\n\u001b[1;32m    464\u001b[0m             current \u001b[38;5;241m=\u001b[39m current\u001b[38;5;241m.\u001b[39mparent\n\u001b[1;32m    465\u001b[0m             \u001b[38;5;66;03m# current = current.sdt_procedure()\u001b[39;00m\n\u001b[0;32m--> 466\u001b[0m \u001b[38;5;28;01mreturn\u001b[39;00m current\u001b[38;5;241m.\u001b[39mchildren[\u001b[38;5;241m0\u001b[39m]\n",
      "\u001b[0;31mIndexError\u001b[0m: list index out of range"
     ]
    }
   ],
   "source": [
    "cfg = CFG()\n",
    "filename = 'llre.cfg'\n",
    "try:\n",
    "    with open(filename) as file:\n",
    "        for line in file:\n",
    "            cfg.add_production_rule(line.strip())\n",
    "except FileNotFoundError:\n",
    "    print(f\"File '{filename}' not found, check your input\")\n",
    "\n",
    "\n",
    "cfg.generate_llt()\n",
    "\n",
    "l = Lexer()\n",
    "ts = l.lex('A-D.g+')\n",
    "\n",
    "tree = cfg.parse(ts)\n",
    "\n",
    "td = TreeDisplay(tree)\n",
    "td\n",
    "td.render_pdf()"
   ]
  }
 ],
 "metadata": {
  "kernelspec": {
   "display_name": "base",
   "language": "python",
   "name": "python3"
  },
  "language_info": {
   "codemirror_mode": {
    "name": "ipython",
    "version": 3
   },
   "file_extension": ".py",
   "mimetype": "text/x-python",
   "name": "python",
   "nbconvert_exporter": "python",
   "pygments_lexer": "ipython3",
   "version": "3.11.5"
  }
 },
 "nbformat": 4,
 "nbformat_minor": 2
}
